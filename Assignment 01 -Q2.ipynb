{
 "cells": [
  {
   "cell_type": "markdown",
   "id": "8a90dc82",
   "metadata": {},
   "source": [
    "# Write a Python program that accepts a word from the user and reverse it."
   ]
  },
  {
   "cell_type": "code",
   "execution_count": 1,
   "id": "5f40a137",
   "metadata": {},
   "outputs": [
    {
     "name": "stdout",
     "output_type": "stream",
     "text": [
      "ADOYDE"
     ]
    }
   ],
   "source": [
    "a = \"EDYODA\"\n",
    "for i in range(len(a)-1,-1,-1):\n",
    "    print(a[i], end = \"\")"
   ]
  },
  {
   "cell_type": "code",
   "execution_count": 2,
   "id": "36c67b25",
   "metadata": {},
   "outputs": [
    {
     "data": {
      "text/plain": [
       "'ADOYDE'"
      ]
     },
     "execution_count": 2,
     "metadata": {},
     "output_type": "execute_result"
    }
   ],
   "source": [
    "a[-1::-1]"
   ]
  },
  {
   "cell_type": "code",
   "execution_count": null,
   "id": "e82e6899",
   "metadata": {},
   "outputs": [],
   "source": [
    "b = input()\n",
    "print(b[::-1])"
   ]
  },
  {
   "cell_type": "code",
   "execution_count": null,
   "id": "4f5302d2",
   "metadata": {},
   "outputs": [],
   "source": [
    "b = input()\n",
    "for i in range(len(b)-1,-1,-1):\n",
    "    print(b[i], end = \"\")"
   ]
  },
  {
   "cell_type": "code",
   "execution_count": null,
   "id": "8a00f5b6",
   "metadata": {},
   "outputs": [],
   "source": []
  }
 ],
 "metadata": {
  "kernelspec": {
   "display_name": "Python 3 (ipykernel)",
   "language": "python",
   "name": "python3"
  },
  "language_info": {
   "codemirror_mode": {
    "name": "ipython",
    "version": 3
   },
   "file_extension": ".py",
   "mimetype": "text/x-python",
   "name": "python",
   "nbconvert_exporter": "python",
   "pygments_lexer": "ipython3",
   "version": "3.10.2"
  }
 },
 "nbformat": 4,
 "nbformat_minor": 5
}
